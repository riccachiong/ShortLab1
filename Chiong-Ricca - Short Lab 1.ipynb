{
 "cells": [
  {
   "cell_type": "markdown",
   "metadata": {},
   "source": [
    "191130 \n",
    "CHIONG \n",
    "2 BS ITE"
   ]
  },
  {
   "cell_type": "code",
   "execution_count": 4,
   "metadata": {},
   "outputs": [
    {
     "name": "stdout",
     "output_type": "stream",
     "text": [
      "Enter the amount in US dollars: 20\n",
      "20 US dollar(s)= 1000 Philippine Pesos\n"
     ]
    }
   ],
   "source": [
    "#1\n",
    "\n",
    "def dollars_to_pesos(x):\n",
    "    amount=x*50\n",
    "    return amount\n",
    "    \n",
    "    \n",
    "a=int(input(\"Enter the amount in US dollars: \"))\n",
    "amount=dollars_to_pesos(a)\n",
    "\n",
    "print(a,'US dollar(s)=' ,amount, 'Philippine Pesos') "
   ]
  },
  {
   "cell_type": "code",
   "execution_count": 6,
   "metadata": {},
   "outputs": [
    {
     "name": "stdout",
     "output_type": "stream",
     "text": [
      "First integer: 55\n",
      "Second integer: 3\n",
      "58\n",
      "52\n",
      "165\n",
      "18\n",
      "1\n"
     ]
    }
   ],
   "source": [
    "#2\n",
    "a=int(input('First integer: '))\n",
    "b=int(input('Second integer: '))\n",
    "\n",
    "print(a+b)\n",
    "print(a-b)\n",
    "print(a*b)\n",
    "print(a//b)\n",
    "print(a%b)"
   ]
  },
  {
   "cell_type": "code",
   "execution_count": 7,
   "metadata": {},
   "outputs": [
    {
     "name": "stdout",
     "output_type": "stream",
     "text": [
      "Enter kg: 65\n",
      "Enter cm: 180\n",
      "BMI: 20.061728395061728\n"
     ]
    }
   ],
   "source": [
    "def compute_bmi(kg,m):\n",
    "        bmi = kg/(m**2)\n",
    "        return bmi\n",
    "        \n",
    "def convert_cm_to_m(x):   \n",
    "        m = x*0.01\n",
    "        return m\n",
    "\n",
    "\n",
    "kg=(int(input(\"Enter kg: \")))\n",
    "cm=(int(input(\"Enter cm: \")))\n",
    "\n",
    "m=convert_cm_to_m(cm)\n",
    "bmi=compute_bmi(kg,m)\n",
    "\n",
    "print('BMI:', bmi)"
   ]
  },
  {
   "cell_type": "code",
   "execution_count": null,
   "metadata": {},
   "outputs": [],
   "source": []
  }
 ],
 "metadata": {
  "kernelspec": {
   "display_name": "Python 3",
   "language": "python",
   "name": "python3"
  },
  "language_info": {
   "codemirror_mode": {
    "name": "ipython",
    "version": 3
   },
   "file_extension": ".py",
   "mimetype": "text/x-python",
   "name": "python",
   "nbconvert_exporter": "python",
   "pygments_lexer": "ipython3",
   "version": "3.8.3"
  }
 },
 "nbformat": 4,
 "nbformat_minor": 4
}
